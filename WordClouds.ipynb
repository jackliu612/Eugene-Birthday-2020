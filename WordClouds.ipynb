{
 "cells": [
  {
   "cell_type": "code",
   "execution_count": 6,
   "metadata": {},
   "outputs": [],
   "source": [
    "import wordcloud as WC\n",
    "import numpy as np\n",
    "from PIL import Image"
   ]
  },
  {
   "cell_type": "code",
   "execution_count": 89,
   "metadata": {},
   "outputs": [],
   "source": [
    "mask = np.array(Image.open(\"img/hands.png\"))\n",
    "wordcloud = WC.WordCloud(font_path='comic-sans.ttf', width=10234, height=4745, max_words=10000000000, mode='RGB', background_color='white', mask=mask, contour_width=3)"
   ]
  },
  {
   "cell_type": "code",
   "execution_count": 90,
   "metadata": {},
   "outputs": [],
   "source": [
    "text = ''\n",
    "with open('out.txt', encoding=\"utf-8\") as f:\n",
    "    for line in f:\n",
    "        text += line"
   ]
  },
  {
   "cell_type": "code",
   "execution_count": 91,
   "metadata": {},
   "outputs": [],
   "source": [
    "wc = wordcloud.generate(text)"
   ]
  },
  {
   "cell_type": "code",
   "execution_count": 92,
   "metadata": {},
   "outputs": [
    {
     "data": {
      "text/plain": [
       "<wordcloud.wordcloud.WordCloud at 0x10d0350f588>"
      ]
     },
     "execution_count": 92,
     "metadata": {},
     "output_type": "execute_result"
    }
   ],
   "source": [
    "image_colors = WC.ImageColorGenerator(mask)\n",
    "wc.recolor(color_func=image_colors)"
   ]
  },
  {
   "cell_type": "code",
   "execution_count": 94,
   "metadata": {},
   "outputs": [],
   "source": [
    "wc.to_file(\"img/mask2.jpg\")\n",
    "with open(\"img/mask2.svg\", \"w\", encoding=\"utf-8\") as out_file:\n",
    "    out_file.write(wc.to_svg(embed_font=True))"
   ]
  },
  {
   "cell_type": "code",
   "execution_count": 95,
   "metadata": {},
   "outputs": [],
   "source": [
    "mask = np.array(Image.open(\"img/hands.png\"))\n",
    "wordcloud = WC.WordCloud(font_path='comic-sans.ttf', width=10234, height=4745, max_words=10000000000, mode='RGB', background_color='white', mask=mask, contour_width=3, max_font_size = 48)\n",
    "text = ''\n",
    "with open('out.txt', encoding=\"utf-8\") as f:\n",
    "    for line in f:\n",
    "        text += line\n",
    "wc = wordcloud.generate(text)\n",
    "image_colors = WC.ImageColorGenerator(mask)\n",
    "wc.recolor(color_func=image_colors)\n",
    "wc.to_file(\"img/mask3.jpg\")\n",
    "with open(\"img/mask3.svg\", \"w\", encoding=\"utf-8\") as out_file:\n",
    "    out_file.write(wc.to_svg(embed_font=True))"
   ]
  },
  {
   "cell_type": "code",
   "execution_count": null,
   "metadata": {},
   "outputs": [],
   "source": []
  }
 ],
 "metadata": {
  "kernelspec": {
   "display_name": "Python 3",
   "language": "python",
   "name": "python3"
  },
  "language_info": {
   "codemirror_mode": {
    "name": "ipython",
    "version": 3
   },
   "file_extension": ".py",
   "mimetype": "text/x-python",
   "name": "python",
   "nbconvert_exporter": "python",
   "pygments_lexer": "ipython3",
   "version": "3.7.4"
  }
 },
 "nbformat": 4,
 "nbformat_minor": 4
}
