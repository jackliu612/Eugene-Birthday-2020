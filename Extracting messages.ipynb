{
 "cells": [
  {
   "cell_type": "code",
   "execution_count": 1,
   "metadata": {},
   "outputs": [],
   "source": [
    "import json"
   ]
  },
  {
   "cell_type": "markdown",
   "metadata": {},
   "source": [
    "# Facebook Messenger"
   ]
  },
  {
   "cell_type": "code",
   "execution_count": 2,
   "metadata": {},
   "outputs": [
    {
     "name": "stdout",
     "output_type": "stream",
     "text": [
      "participants\n",
      "messages\n",
      "title\n",
      "is_still_participant\n",
      "thread_type\n",
      "thread_path\n"
     ]
    }
   ],
   "source": [
    "with open('FB_Messages.json') as json_file:\n",
    "    data = json.load(json_file)\n",
    "    for key, value in data.items():\n",
    "        print(key)"
   ]
  },
  {
   "cell_type": "code",
   "execution_count": 3,
   "metadata": {},
   "outputs": [
    {
     "data": {
      "text/plain": [
       "[{'name': 'Facebook User'}, {'name': 'Jack Liu'}]"
      ]
     },
     "execution_count": 3,
     "metadata": {},
     "output_type": "execute_result"
    }
   ],
   "source": [
    "data['participants']"
   ]
  },
  {
   "cell_type": "code",
   "execution_count": 4,
   "metadata": {},
   "outputs": [],
   "source": [
    "messages = data['messages']"
   ]
  },
  {
   "cell_type": "code",
   "execution_count": 5,
   "metadata": {},
   "outputs": [
    {
     "name": "stdout",
     "output_type": "stream",
     "text": [
      "sender_name\n",
      "timestamp_ms\n",
      "content\n",
      "type\n"
     ]
    }
   ],
   "source": [
    "for key, value in messages[0].items():\n",
    "    print(key)"
   ]
  },
  {
   "cell_type": "code",
   "execution_count": 26,
   "metadata": {},
   "outputs": [
    {
     "name": "stdout",
     "output_type": "stream",
     "text": [
      "{'sender_name': 'Facebook User', 'timestamp_ms': 1497398004413, 'sticker': {'uri': 'messages/stickers_used/39178562_1505197616293642_5411344281094848512_n_369239263222822.png'}, 'type': 'Generic'}\n"
     ]
    }
   ],
   "source": [
    "text = \"\"\n",
    "with open('Only_Eugene.txt', 'w', encoding=\"utf-8\") as output:\n",
    "    for message in messages:\n",
    "        try:\n",
    "            if message['sender_name'] == 'Facebook User':\n",
    "                output.write(message['content'] + ' ')\n",
    "                text += message['content'] + ' '\n",
    "        except:\n",
    "            print(message)"
   ]
  },
  {
   "cell_type": "code",
   "execution_count": 6,
   "metadata": {},
   "outputs": [
    {
     "name": "stdout",
     "output_type": "stream",
     "text": [
      "{'sender_name': 'Jack Liu', 'timestamp_ms': 1565638717717, 'photos': [{'uri': 'messages/inbox/FacebookUser_Z3338Q1LsQ/photos/68298015_400522973929992_2310344461357416448_n_400522950596661.jpg', 'creation_timestamp': 1565638717}], 'type': 'Generic'}\n",
      "{'sender_name': 'Jack Liu', 'timestamp_ms': 1565638234877, 'photos': [{'uri': 'messages/inbox/FacebookUser_Z3338Q1LsQ/photos/67970015_221602208745296_1818175672053399552_n_221602168745300.jpg', 'creation_timestamp': 1565638234}], 'type': 'Generic'}\n",
      "{'sender_name': 'Jack Liu', 'timestamp_ms': 1565638216534, 'photos': [{'uri': 'messages/inbox/FacebookUser_Z3338Q1LsQ/photos/68928363_649209058915134_1974572482320924672_n_649209035581803.jpg', 'creation_timestamp': 1565638216}], 'type': 'Generic'}\n",
      "{'sender_name': 'Jack Liu', 'timestamp_ms': 1564436391531, 'photos': [{'uri': 'messages/inbox/FacebookUser_Z3338Q1LsQ/photos/67401410_358882861398669_2206153090241921024_n_1334552013374591.jpg', 'creation_timestamp': 1564436391}], 'type': 'Generic'}\n",
      "{'sender_name': 'Jack Liu', 'timestamp_ms': 1563896259128, 'photos': [{'uri': 'messages/inbox/FacebookUser_Z3338Q1LsQ/photos/67208778_600353360489449_5525424427862327296_n_600353213822797.jpg', 'creation_timestamp': 1563896258}], 'type': 'Generic'}\n",
      "{'sender_name': 'Jack Liu', 'timestamp_ms': 1561298809788, 'photos': [{'uri': 'messages/inbox/FacebookUser_Z3338Q1LsQ/photos/64855153_2412815689003558_6452609615396864000_n_2412815265670267.jpg', 'creation_timestamp': 1561298809}], 'type': 'Generic'}\n",
      "{'sender_name': 'Jack Liu', 'timestamp_ms': 1561168535021, 'photos': [{'uri': 'messages/inbox/FacebookUser_Z3338Q1LsQ/photos/56842798_415668289250333_8228176737972781056_n_612895145860333.jpg', 'creation_timestamp': 1561168534}], 'type': 'Generic'}\n",
      "{'sender_name': 'Jack Liu', 'timestamp_ms': 1561084595966, 'photos': [{'uri': 'messages/inbox/FacebookUser_Z3338Q1LsQ/photos/64558119_405472740053328_3661203635494191104_n_405472676720001.jpg', 'creation_timestamp': 1561084595}], 'type': 'Generic'}\n",
      "{'sender_name': 'Jack Liu', 'timestamp_ms': 1557191751804, 'photos': [{'uri': 'messages/inbox/FacebookUser_Z3338Q1LsQ/photos/60023242_334014563969412_3864198431446663168_n_334014560636079.png', 'creation_timestamp': 1557191751}], 'type': 'Generic'}\n",
      "{'sender_name': 'Jack Liu', 'timestamp_ms': 1556595844628, 'photos': [{'uri': 'messages/inbox/FacebookUser_Z3338Q1LsQ/photos/58571114_393362718183291_4602697656899207168_n_393362714849958.png', 'creation_timestamp': 1556595843}], 'type': 'Generic'}\n",
      "{'sender_name': 'Jack Liu', 'timestamp_ms': 1556594897662, 'photos': [{'uri': 'messages/inbox/FacebookUser_Z3338Q1LsQ/photos/59560829_434388867296122_4861565184189136896_n_434388860629456.png', 'creation_timestamp': 1556594896}], 'type': 'Generic'}\n",
      "{'sender_name': 'Jack Liu', 'timestamp_ms': 1556592405845, 'photos': [{'uri': 'messages/inbox/FacebookUser_Z3338Q1LsQ/photos/58608482_1133484410171232_6742647021728956416_n_1133484406837899.png', 'creation_timestamp': 1556592404}], 'type': 'Generic'}\n",
      "{'sender_name': 'Jack Liu', 'timestamp_ms': 1556592262125, 'photos': [{'uri': 'messages/inbox/FacebookUser_Z3338Q1LsQ/photos/59285734_866246433711992_2247328361888088064_n_866246427045326.png', 'creation_timestamp': 1556592261}], 'type': 'Generic'}\n",
      "{'sender_name': 'Jack Liu', 'timestamp_ms': 1556591399908, 'photos': [{'uri': 'messages/inbox/FacebookUser_Z3338Q1LsQ/photos/59546165_359671771314169_2511498348427476992_n_359671764647503.png', 'creation_timestamp': 1556591398}], 'type': 'Generic'}\n",
      "{'sender_name': 'Jack Liu', 'timestamp_ms': 1556590589879, 'photos': [{'uri': 'messages/inbox/FacebookUser_Z3338Q1LsQ/photos/58978389_658912594551088_8662069572758667264_n_658912587884422.jpg', 'creation_timestamp': 1556590585}], 'type': 'Generic'}\n",
      "{'sender_name': 'Jack Liu', 'timestamp_ms': 1556590398337, 'photos': [{'uri': 'messages/inbox/FacebookUser_Z3338Q1LsQ/photos/58580600_596233137541639_8522818035713572864_n_596233130874973.jpg', 'creation_timestamp': 1556590394}], 'type': 'Generic'}\n",
      "{'sender_name': 'Jack Liu', 'timestamp_ms': 1556590030249, 'photos': [{'uri': 'messages/inbox/FacebookUser_Z3338Q1LsQ/photos/58883065_1266201953537938_6472277576315305984_n_1266201946871272.png', 'creation_timestamp': 1556590028}], 'type': 'Generic'}\n",
      "{'sender_name': 'Jack Liu', 'timestamp_ms': 1556589109765, 'photos': [{'uri': 'messages/inbox/FacebookUser_Z3338Q1LsQ/photos/58649545_349577179077642_6522073594648854528_n_349577175744309.jpg', 'creation_timestamp': 1556589106}], 'type': 'Generic'}\n",
      "{'sender_name': 'Jack Liu', 'timestamp_ms': 1556413708750, 'gifs': [{'uri': 'messages/inbox/FacebookUser_Z3338Q1LsQ/gifs/50177968_563056317493589_6497999216328048640_n_376023236346680.gif'}], 'type': 'Generic'}\n",
      "{'sender_name': 'Jack Liu', 'timestamp_ms': 1556246252522, 'photos': [{'uri': 'messages/inbox/FacebookUser_Z3338Q1LsQ/photos/58606465_2002429480063691_8656996945799151616_n_362658257926125.png', 'creation_timestamp': 1556246250}], 'type': 'Generic'}\n",
      "{'sender_name': 'Jack Liu', 'timestamp_ms': 1556242709470, 'photos': [{'uri': 'messages/inbox/FacebookUser_Z3338Q1LsQ/photos/58374008_295158244737252_9085161745911119872_n_295158241403919.png', 'creation_timestamp': 1556242709}], 'type': 'Generic'}\n",
      "{'sender_name': 'Jack Liu', 'timestamp_ms': 1554083546151, 'photos': [{'uri': 'messages/inbox/FacebookUser_Z3338Q1LsQ/photos/55887861_2394747693870400_2377372051691274240_n_360658041210220.png', 'creation_timestamp': 1554083545}], 'type': 'Generic'}\n",
      "{'sender_name': 'Jack Liu', 'timestamp_ms': 1554081351033, 'photos': [{'uri': 'messages/inbox/FacebookUser_Z3338Q1LsQ/photos/55887861_2394747693870400_2377372051691274240_n_2394747690537067.png', 'creation_timestamp': 1554081350}], 'type': 'Generic'}\n",
      "{'sender_name': 'Jack Liu', 'timestamp_ms': 1554078499453, 'photos': [{'uri': 'messages/inbox/FacebookUser_Z3338Q1LsQ/photos/55892497_2190761094318278_4407250982501613568_n_2190761084318279.png', 'creation_timestamp': 1554078498}], 'type': 'Generic'}\n",
      "{'sender_name': 'Jack Liu', 'timestamp_ms': 1554077576129, 'photos': [{'uri': 'messages/inbox/FacebookUser_Z3338Q1LsQ/photos/55910067_2159250984387769_3621172581790384128_n_2159250977721103.png', 'creation_timestamp': 1554077575}], 'type': 'Generic'}\n",
      "{'sender_name': 'Jack Liu', 'timestamp_ms': 1553215955658, 'photos': [{'uri': 'messages/inbox/FacebookUser_Z3338Q1LsQ/photos/54256255_368549907070868_8512079041220575232_n_368549903737535.png', 'creation_timestamp': 1553215955}], 'type': 'Generic'}\n",
      "{'sender_name': 'Jack Liu', 'timestamp_ms': 1553043226482, 'photos': [{'uri': 'messages/inbox/FacebookUser_Z3338Q1LsQ/photos/54430266_2048971215397020_2410531724657164288_n_2048971212063687.png', 'creation_timestamp': 1553043225}], 'type': 'Generic'}\n",
      "{'sender_name': 'Jack Liu', 'timestamp_ms': 1553042920187, 'photos': [{'uri': 'messages/inbox/FacebookUser_Z3338Q1LsQ/photos/54518450_1447151648755125_4511547545956122624_n_1447151645421792.jpg', 'creation_timestamp': 1553042919}], 'type': 'Generic'}\n",
      "{'sender_name': 'Jack Liu', 'timestamp_ms': 1553041148384, 'photos': [{'uri': 'messages/inbox/FacebookUser_Z3338Q1LsQ/photos/48385113_404728613403075_9000545998212169728_n_2193024974281410.png', 'creation_timestamp': 1553041147}], 'type': 'Generic'}\n",
      "{'sender_name': 'Jack Liu', 'timestamp_ms': 1551928000107, 'photos': [{'uri': 'messages/inbox/FacebookUser_Z3338Q1LsQ/photos/53636696_246607246244543_4420459578894843904_n_246607242911210.png', 'creation_timestamp': 1551927998}], 'type': 'Generic'}\n",
      "{'sender_name': 'Jack Liu', 'timestamp_ms': 1551927678628, 'photos': [{'uri': 'messages/inbox/FacebookUser_Z3338Q1LsQ/photos/53900769_319137188952617_35306881735983104_n_319137182285951.png', 'creation_timestamp': 1551927678}], 'type': 'Generic'}\n",
      "{'sender_name': 'Jack Liu', 'timestamp_ms': 1551927671539, 'photos': [{'uri': 'messages/inbox/FacebookUser_Z3338Q1LsQ/photos/53145654_627610571024151_2912720771446996992_n_627610567690818.png', 'creation_timestamp': 1551927670}], 'type': 'Generic'}\n",
      "{'sender_name': 'Jack Liu', 'timestamp_ms': 1551661408629, 'photos': [{'uri': 'messages/inbox/FacebookUser_Z3338Q1LsQ/photos/53287784_403015927125687_1095685864182251520_n_403015923792354.png', 'creation_timestamp': 1551661408}], 'reactions': [{'reaction': 'ð\\x9f\\x91\\x8d', 'actor': 'Facebook User'}], 'type': 'Generic'}\n",
      "{'sender_name': 'Jack Liu', 'timestamp_ms': 1551661221677, 'photos': [{'uri': 'messages/inbox/FacebookUser_Z3338Q1LsQ/photos/53239469_614159039012447_6716009840717594624_n_614159035679114.png', 'creation_timestamp': 1551661221}], 'type': 'Generic'}\n",
      "{'sender_name': 'Jack Liu', 'timestamp_ms': 1551661092551, 'photos': [{'uri': 'messages/inbox/FacebookUser_Z3338Q1LsQ/photos/53930204_305176950180134_7530831648632340480_n_305176946846801.png', 'creation_timestamp': 1551661092}], 'type': 'Generic'}\n",
      "{'sender_name': 'Jack Liu', 'timestamp_ms': 1551660985404, 'photos': [{'uri': 'messages/inbox/FacebookUser_Z3338Q1LsQ/photos/53121508_593896984417262_2996282598596018176_n_593896981083929.png', 'creation_timestamp': 1551660984}], 'type': 'Generic'}\n",
      "{'sender_name': 'Jack Liu', 'timestamp_ms': 1551660890120, 'photos': [{'uri': 'messages/inbox/FacebookUser_Z3338Q1LsQ/photos/53183062_348770819070591_261061027217539072_n_348770815737258.png', 'creation_timestamp': 1551660889}], 'type': 'Generic'}\n",
      "{'sender_name': 'Jack Liu', 'timestamp_ms': 1551660801865, 'photos': [{'uri': 'messages/inbox/FacebookUser_Z3338Q1LsQ/photos/53625651_323773684945722_1914921579922325504_n_323773681612389.png', 'creation_timestamp': 1551660801}], 'type': 'Generic'}\n",
      "{'sender_name': 'Jack Liu', 'timestamp_ms': 1551412249236, 'photos': [{'uri': 'messages/inbox/FacebookUser_Z3338Q1LsQ/photos/53003731_1999581166806814_4770291897878970368_n_1999581163473481.png', 'creation_timestamp': 1551412248}], 'type': 'Generic'}\n",
      "{'sender_name': 'Jack Liu', 'timestamp_ms': 1550801539555, 'photos': [{'uri': 'messages/inbox/FacebookUser_Z3338Q1LsQ/photos/52891139_2108392685949022_6331473679175647232_n_2108392682615689.png', 'creation_timestamp': 1550801539}], 'type': 'Generic'}\n",
      "{'sender_name': 'Jack Liu', 'timestamp_ms': 1550798854517, 'photos': [{'uri': 'messages/inbox/FacebookUser_Z3338Q1LsQ/photos/52565911_1997023677257918_9151319197345644544_n_550458445435151.png', 'creation_timestamp': 1550798854}], 'type': 'Generic'}\n",
      "{'sender_name': 'Jack Liu', 'timestamp_ms': 1550625331345, 'photos': [{'uri': 'messages/inbox/FacebookUser_Z3338Q1LsQ/photos/52565911_1997023677257918_9151319197345644544_n_1997023673924585.png', 'creation_timestamp': 1550625330}], 'type': 'Generic'}\n",
      "{'sender_name': 'Jack Liu', 'timestamp_ms': 1550173777788, 'photos': [{'uri': 'messages/inbox/FacebookUser_Z3338Q1LsQ/photos/52258605_824969637845706_8151547456190939136_n_824969634512373.png', 'creation_timestamp': 1550173776}], 'type': 'Generic'}\n",
      "{'sender_name': 'Jack Liu', 'timestamp_ms': 1549298754101, 'photos': [{'uri': 'messages/inbox/FacebookUser_Z3338Q1LsQ/photos/51525887_227823494839751_5494489741229293568_n_227823454839755.jpg', 'creation_timestamp': 1549298753}], 'type': 'Generic'}\n",
      "{'sender_name': 'Jack Liu', 'timestamp_ms': 1548212533594, 'photos': [{'uri': 'messages/inbox/FacebookUser_Z3338Q1LsQ/photos/50094262_344793066362853_7206730195250708480_n_344793059696187.png', 'creation_timestamp': 1548212532}], 'type': 'Generic'}\n",
      "{'sender_name': 'Jack Liu', 'timestamp_ms': 1548046473199, 'photos': [{'uri': 'messages/inbox/FacebookUser_Z3338Q1LsQ/photos/50286984_2171247359805925_1766728170075062272_n_2171247356472592.png', 'creation_timestamp': 1548046472}], 'type': 'Generic'}\n",
      "{'sender_name': 'Jack Liu', 'timestamp_ms': 1545187160189, 'photos': [{'uri': 'messages/inbox/FacebookUser_Z3338Q1LsQ/photos/48387323_2722771711282033_6291502106473922560_n_2722771704615367.png', 'creation_timestamp': 1545187159}], 'type': 'Generic'}\n",
      "{'sender_name': 'Jack Liu', 'timestamp_ms': 1543986687179, 'photos': [{'uri': 'messages/inbox/FacebookUser_Z3338Q1LsQ/photos/47232157_206905636785877_566643968893255680_n_206905633452544.png', 'creation_timestamp': 1543986684}], 'type': 'Generic'}\n",
      "{'sender_name': 'Jack Liu', 'timestamp_ms': 1543172232901, 'photos': [{'uri': 'messages/inbox/FacebookUser_Z3338Q1LsQ/photos/46995952_191578691782195_6691216270123073536_n_191578688448862.png', 'creation_timestamp': 1543172232}], 'type': 'Generic'}\n",
      "{'sender_name': 'Jack Liu', 'timestamp_ms': 1543159343042, 'photos': [{'uri': 'messages/inbox/FacebookUser_Z3338Q1LsQ/photos/46822483_263642764509752_2782374303629312000_n_263642761176419.png', 'creation_timestamp': 1543159342}], 'type': 'Generic'}\n",
      "{'sender_name': 'Jack Liu', 'timestamp_ms': 1543072070684, 'photos': [{'uri': 'messages/inbox/FacebookUser_Z3338Q1LsQ/photos/46524311_970135819853686_5091917727816220672_n_970135816520353.png', 'creation_timestamp': 1543072069}], 'type': 'Generic'}\n",
      "{'sender_name': 'Jack Liu', 'timestamp_ms': 1542765883467, 'photos': [{'uri': 'messages/inbox/FacebookUser_Z3338Q1LsQ/photos/46674489_341974219687533_7227930922622910464_n_341974216354200.png', 'creation_timestamp': 1542765882}], 'type': 'Generic'}\n",
      "{'sender_name': 'Jack Liu', 'timestamp_ms': 1542765274759, 'photos': [{'uri': 'messages/inbox/FacebookUser_Z3338Q1LsQ/photos/46495213_380707419334445_8250272605248946176_n_380707416001112.png', 'creation_timestamp': 1542765274}], 'type': 'Generic'}\n",
      "{'sender_name': 'Jack Liu', 'timestamp_ms': 1538697466266, 'photos': [{'uri': 'messages/inbox/FacebookUser_Z3338Q1LsQ/photos/43086334_172100617038260_9219039522954674176_n_172100613704927.png', 'creation_timestamp': 1538697464}], 'type': 'Generic'}\n",
      "{'sender_name': 'Jack Liu', 'timestamp_ms': 1523330037781, 'photos': [{'uri': 'messages/inbox/FacebookUser_Z3338Q1LsQ/photos/30582213_595019950848670_8804529682302107648_n_595019947515337.png', 'creation_timestamp': 1523330037}], 'type': 'Generic', 'ip': '73.171.2.252'}\n",
      "{'sender_name': 'Jack Liu', 'timestamp_ms': 1504406590956, 'photos': [{'uri': 'messages/inbox/FacebookUser_Z3338Q1LsQ/photos/21363251_497494590601207_585768862_o_497494590601207.png', 'creation_timestamp': 1504406588}], 'type': 'Generic', 'ip': '2601:5c9:4201:20b0:b490:8799:75d:5706'}\n",
      "{'sender_name': 'Jack Liu', 'timestamp_ms': 1503691161404, 'photos': [{'uri': 'messages/inbox/FacebookUser_Z3338Q1LsQ/photos/21146429_494159640934702_201830789_o_494159640934702.png', 'creation_timestamp': 1503691158}], 'type': 'Generic', 'ip': '2601:5c9:4201:20b0:edc1:b580:1d25:ca53'}\n",
      "{'sender_name': 'Jack Liu', 'timestamp_ms': 1503411360170, 'photos': [{'uri': 'messages/inbox/FacebookUser_Z3338Q1LsQ/photos/21037711_492869161063750_992526368_o_492869161063750.png', 'creation_timestamp': 1503411359}], 'type': 'Generic', 'ip': '2601:5c9:4201:20b0:2c96:a4d6:b9d4:78f9'}\n",
      "{'sender_name': 'Jack Liu', 'timestamp_ms': 1501791389921, 'photos': [{'uri': 'messages/inbox/FacebookUser_Z3338Q1LsQ/photos/20624253_485242758493057_29481670_n_485242758493057.png', 'creation_timestamp': 1501791389}], 'type': 'Generic', 'ip': '2601:5c9:4201:20b0:7450:db9b:88e8:3e9f'}\n",
      "{'sender_name': 'Jack Liu', 'timestamp_ms': 1497488427638, 'photos': [{'uri': 'messages/inbox/FacebookUser_Z3338Q1LsQ/photos/19204756_461072360910097_849702182_o_461072360910097.png', 'creation_timestamp': 1497488426}], 'type': 'Generic', 'ip': '2601:5c9:4201:20b0:28ee:93a9:b01c:67c7'}\n",
      "{'sender_name': 'Jack Liu', 'timestamp_ms': 1497487028657, 'photos': [{'uri': 'messages/inbox/FacebookUser_Z3338Q1LsQ/photos/19184021_461067237577276_410492132_n_461067237577276.png', 'creation_timestamp': 1497487027}], 'type': 'Generic', 'ip': '2601:5c9:4201:20b0:28ee:93a9:b01c:67c7'}\n",
      "{'sender_name': 'Jack Liu', 'timestamp_ms': 1497484369087, 'photos': [{'uri': 'messages/inbox/FacebookUser_Z3338Q1LsQ/photos/19213068_461054887578511_280920073_o_461054887578511.png', 'creation_timestamp': 1497484367}], 'type': 'Generic', 'ip': '2601:5c9:4201:20b0:28ee:93a9:b01c:67c7'}\n",
      "{'sender_name': 'Facebook User', 'timestamp_ms': 1497398004413, 'sticker': {'uri': 'messages/stickers_used/39178562_1505197616293642_5411344281094848512_n_369239263222822.png'}, 'type': 'Generic'}\n",
      "{'sender_name': 'Jack Liu', 'timestamp_ms': 1485915179482, 'sticker': {'uri': 'messages/stickers_used/39178562_1505197616293642_5411344281094848512_n_369239263222822.png'}, 'type': 'Generic', 'ip': '2601:5c9:4201:20b0:886f:fe7b:a33e:a430'}\n",
      "{'sender_name': 'Jack Liu', 'timestamp_ms': 1485565209299, 'sticker': {'uri': 'messages/stickers_used/39178562_1505197616293642_5411344281094848512_n_369239263222822.png'}, 'type': 'Generic', 'ip': '2601:5c9:4201:20b0:c8e7:d89c:1a9:44e9'}\n",
      "{'sender_name': 'Jack Liu', 'timestamp_ms': 1485480669829, 'sticker': {'uri': 'messages/stickers_used/39178562_1505197616293642_5411344281094848512_n_369239263222822.png'}, 'type': 'Generic', 'ip': '2601:5c9:4201:20b0:795d:df0d:ada:10c'}\n",
      "{'sender_name': 'Jack Liu', 'timestamp_ms': 1484925590145, 'photos': [{'uri': 'messages/inbox/FacebookUser_Z3338Q1LsQ/photos/16130129_390630387954295_862970540_o_390630387954295.png', 'creation_timestamp': 1484925587}], 'type': 'Generic', 'ip': '2601:5c9:4201:20b0:c0ad:7d7f:4684:593c'}\n",
      "{'sender_name': 'Jack Liu', 'timestamp_ms': 1483577827289, 'sticker': {'uri': 'messages/stickers_used/39178562_1505197616293642_5411344281094848512_n_369239263222822.png'}, 'type': 'Generic', 'ip': '73.171.2.252'}\n",
      "{'sender_name': 'Jack Liu', 'timestamp_ms': 1480197743817, 'sticker': {'uri': 'messages/stickers_used/39178562_1505197616293642_5411344281094848512_n_369239263222822.png'}, 'type': 'Generic', 'ip': '2601:5c9:4201:20b0:4848:312e:dd1b:5e4'}\n",
      "{'sender_name': 'Jack Liu', 'timestamp_ms': 1477710825146, 'sticker': {'uri': 'messages/stickers_used/39178562_1505197616293642_5411344281094848512_n_369239263222822.png'}, 'type': 'Generic', 'ip': '2601:5c9:4201:20b0:8857:f61b:e190:ca9'}\n",
      "{'sender_name': 'Jack Liu', 'timestamp_ms': 1476748002816, 'sticker': {'uri': 'messages/stickers_used/39178562_1505197616293642_5411344281094848512_n_369239263222822.png'}, 'type': 'Generic', 'ip': '2601:5c9:4201:20b0:7425:a93:d806:17c1'}\n"
     ]
    }
   ],
   "source": [
    "text = \"\"\n",
    "with open('Combined.txt', 'w', encoding=\"utf-8\") as output:\n",
    "    for message in messages:\n",
    "        try:\n",
    "            output.write(message['content'] + ' ')\n",
    "            text += message['content'] + ' '\n",
    "        except:\n",
    "            print(message)"
   ]
  },
  {
   "cell_type": "code",
   "execution_count": 7,
   "metadata": {},
   "outputs": [
    {
     "data": {
      "text/plain": [
       "'I will have the best foods'"
      ]
     },
     "execution_count": 7,
     "metadata": {},
     "output_type": "execute_result"
    }
   ],
   "source": [
    "messages[0]['content']"
   ]
  },
  {
   "cell_type": "markdown",
   "metadata": {},
   "source": [
    "# Google Hangouts"
   ]
  },
  {
   "cell_type": "code",
   "execution_count": 2,
   "metadata": {},
   "outputs": [
    {
     "name": "stdout",
     "output_type": "stream",
     "text": [
      "conversations\n"
     ]
    }
   ],
   "source": [
    "with open('Hangouts.json', encoding=\"utf-8\") as json_file:\n",
    "    data = json.load(json_file)\n",
    "    for key, value in data.items():\n",
    "        print(key)"
   ]
  },
  {
   "cell_type": "code",
   "execution_count": 5,
   "metadata": {},
   "outputs": [],
   "source": [
    "a = data['conversations'][-1]"
   ]
  },
  {
   "cell_type": "code",
   "execution_count": 6,
   "metadata": {},
   "outputs": [
    {
     "name": "stdout",
     "output_type": "stream",
     "text": [
      "conversation\n",
      "events\n"
     ]
    }
   ],
   "source": [
    "for key, value in a.items():\n",
    "    print(key)"
   ]
  },
  {
   "cell_type": "code",
   "execution_count": 10,
   "metadata": {},
   "outputs": [],
   "source": [
    "messages = a['events']"
   ]
  },
  {
   "cell_type": "code",
   "execution_count": 11,
   "metadata": {},
   "outputs": [
    {
     "data": {
      "text/plain": [
       "{'conversation_id': {'id': 'UgyK3b4kvbkC4IQ7WO94AaABAagB25Qo'},\n",
       " 'sender_id': {'gaia_id': '105053874755307869469',\n",
       "  'chat_id': '105053874755307869469'},\n",
       " 'timestamp': '1589217409526250',\n",
       " 'self_event_state': {'user_id': {'gaia_id': '105053874755307869469',\n",
       "   'chat_id': '105053874755307869469'},\n",
       "  'client_generated_id': '6734994232922462600',\n",
       "  'notification_level': 'RING'},\n",
       " 'chat_message': {'message_content': {'segment': [{'type': 'TEXT',\n",
       "     'text': \"They're usually not streaming though I just find their twitters and stuff\"}]}},\n",
       " 'event_id': '8yfT9RdMZlK98X3l38GNmi',\n",
       " 'advances_sort_timestamp': True,\n",
       " 'event_otr': 'ON_THE_RECORD',\n",
       " 'delivery_medium': {'medium_type': 'BABEL_MEDIUM'},\n",
       " 'event_type': 'REGULAR_CHAT_MESSAGE',\n",
       " 'event_version': '1589217409526250'}"
      ]
     },
     "execution_count": 11,
     "metadata": {},
     "output_type": "execute_result"
    }
   ],
   "source": [
    "messages[0]"
   ]
  },
  {
   "cell_type": "code",
   "execution_count": 12,
   "metadata": {},
   "outputs": [],
   "source": [
    "import collections"
   ]
  },
  {
   "cell_type": "code",
   "execution_count": 27,
   "metadata": {},
   "outputs": [],
   "source": [
    "counter = collections.defaultdict(int)"
   ]
  },
  {
   "cell_type": "code",
   "execution_count": 28,
   "metadata": {},
   "outputs": [],
   "source": [
    "for message in messages:\n",
    "    counter[message['event_type']] += 1"
   ]
  },
  {
   "cell_type": "code",
   "execution_count": 29,
   "metadata": {},
   "outputs": [
    {
     "data": {
      "text/plain": [
       "defaultdict(int, {'REGULAR_CHAT_MESSAGE': 6287, 'HANGOUT_EVENT': 52})"
      ]
     },
     "execution_count": 29,
     "metadata": {},
     "output_type": "execute_result"
    }
   ],
   "source": [
    "counter"
   ]
  },
  {
   "cell_type": "code",
   "execution_count": 94,
   "metadata": {},
   "outputs": [],
   "source": [
    "text_messages = []\n",
    "errors = []\n",
    "min_time = 9999999999999999999999999999999\n",
    "for message in messages:\n",
    "    if int(message['timestamp']) < min_time:\n",
    "        min_time = int(message['timestamp'])\n",
    "    if message['event_type'] == 'REGULAR_CHAT_MESSAGE':\n",
    "        try:\n",
    "            for text in message['chat_message']['message_content']['segment']:\n",
    "                text_messages.append(text['text'])\n",
    "        except:\n",
    "            pass"
   ]
  },
  {
   "cell_type": "code",
   "execution_count": 100,
   "metadata": {},
   "outputs": [],
   "source": [
    "with open('Hangouts.txt', 'w', encoding=\"utf-8\") as outfile:\n",
    "    for text in text_messages:\n",
    "        outfile.write(text+ ' ')"
   ]
  },
  {
   "cell_type": "code",
   "execution_count": 96,
   "metadata": {},
   "outputs": [
    {
     "data": {
      "text/plain": [
       "1565910396836051"
      ]
     },
     "execution_count": 96,
     "metadata": {},
     "output_type": "execute_result"
    }
   ],
   "source": [
    "min_time"
   ]
  },
  {
   "cell_type": "code",
   "execution_count": 101,
   "metadata": {},
   "outputs": [],
   "source": [
    "#combining two files into one\n",
    "def combine_files(file1, file2, out):\n",
    "    with open(out, 'w', encoding=\"utf-8\") as outfile:\n",
    "        with open(file1, encoding=\"utf-8\") as f1:\n",
    "            for line in f1:\n",
    "                outfile.write(line.rstrip()+' ')\n",
    "        with open(file2, encoding=\"utf-8\") as f2:\n",
    "            for line in f2:\n",
    "                outfile.write(line.rstrip()+' ')"
   ]
  },
  {
   "cell_type": "code",
   "execution_count": 102,
   "metadata": {},
   "outputs": [],
   "source": [
    "combine_files('CombinedFB.txt', 'Hangouts.txt', 'out.txt')"
   ]
  },
  {
   "cell_type": "code",
   "execution_count": null,
   "metadata": {},
   "outputs": [],
   "source": []
  }
 ],
 "metadata": {
  "kernelspec": {
   "display_name": "Python 3",
   "language": "python",
   "name": "python3"
  },
  "language_info": {
   "codemirror_mode": {
    "name": "ipython",
    "version": 3
   },
   "file_extension": ".py",
   "mimetype": "text/x-python",
   "name": "python",
   "nbconvert_exporter": "python",
   "pygments_lexer": "ipython3",
   "version": "3.7.4"
  }
 },
 "nbformat": 4,
 "nbformat_minor": 2
}
